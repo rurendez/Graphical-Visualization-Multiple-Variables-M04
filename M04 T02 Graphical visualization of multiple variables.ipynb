{
 "cells": [
  {
   "cell_type": "markdown",
   "id": "02206d6e",
   "metadata": {},
   "source": [
    "# Exercises - Data Science Sprint 04 - M04 T02\n",
    "   **Graphical visualization of multiple variables**"
   ]
  },
  {
   "cell_type": "markdown",
   "id": "c73ca2f9",
   "metadata": {},
   "source": [
    "## Exercise #1\n",
    "\n",
    "Review the notebook named \"03 EXAMINING DATA\". Make a copy and execute all commands with all the dataset given.\n",
    "In this exercise we can observe the different options that we can use with graphic libraries. "
   ]
  },
  {
   "cell_type": "markdown",
   "id": "340152ef",
   "metadata": {},
   "source": [
    "This is the link to the external notebook: <a href=\"03 EXAMINING DATA.ipynb\">03 EXAMINING DATA</a>"
   ]
  },
  {
   "cell_type": "markdown",
   "id": "950fa4ac",
   "metadata": {},
   "source": [
    "## Exercise #2\n",
    "\n",
    "Given the data file \"movies.dat\", work on the file in order to process, transform and explore the dataset. \n",
    "\n",
    "The main objective is to prepare it in order to extract information. The final result must be a dataframe with 3 columns: Movie, Year, Genre (only one)."
   ]
  },
  {
   "cell_type": "code",
   "execution_count": 1,
   "id": "8c88a0b6",
   "metadata": {
    "ExecuteTime": {
     "end_time": "2022-10-12T16:54:16.745663Z",
     "start_time": "2022-10-12T16:54:14.092808Z"
    }
   },
   "outputs": [
    {
     "data": {
      "text/html": [
       "<div>\n",
       "<style scoped>\n",
       "    .dataframe tbody tr th:only-of-type {\n",
       "        vertical-align: middle;\n",
       "    }\n",
       "\n",
       "    .dataframe tbody tr th {\n",
       "        vertical-align: top;\n",
       "    }\n",
       "\n",
       "    .dataframe thead th {\n",
       "        text-align: right;\n",
       "    }\n",
       "</style>\n",
       "<table border=\"1\" class=\"dataframe\">\n",
       "  <thead>\n",
       "    <tr style=\"text-align: right;\">\n",
       "      <th></th>\n",
       "      <th>0</th>\n",
       "      <th>1</th>\n",
       "      <th>2</th>\n",
       "    </tr>\n",
       "  </thead>\n",
       "  <tbody>\n",
       "    <tr>\n",
       "      <th>0</th>\n",
       "      <td>1</td>\n",
       "      <td>Toy Story (1995)</td>\n",
       "      <td>Animation|Children's|Comedy</td>\n",
       "    </tr>\n",
       "    <tr>\n",
       "      <th>1</th>\n",
       "      <td>2</td>\n",
       "      <td>Jumanji (1995)</td>\n",
       "      <td>Adventure|Children's|Fantasy</td>\n",
       "    </tr>\n",
       "    <tr>\n",
       "      <th>2</th>\n",
       "      <td>3</td>\n",
       "      <td>Grumpier Old Men (1995)</td>\n",
       "      <td>Comedy|Romance</td>\n",
       "    </tr>\n",
       "    <tr>\n",
       "      <th>3</th>\n",
       "      <td>4</td>\n",
       "      <td>Waiting to Exhale (1995)</td>\n",
       "      <td>Comedy|Drama</td>\n",
       "    </tr>\n",
       "    <tr>\n",
       "      <th>4</th>\n",
       "      <td>5</td>\n",
       "      <td>Father of the Bride Part II (1995)</td>\n",
       "      <td>Comedy</td>\n",
       "    </tr>\n",
       "  </tbody>\n",
       "</table>\n",
       "</div>"
      ],
      "text/plain": [
       "   0                                   1                             2\n",
       "0  1                    Toy Story (1995)   Animation|Children's|Comedy\n",
       "1  2                      Jumanji (1995)  Adventure|Children's|Fantasy\n",
       "2  3             Grumpier Old Men (1995)                Comedy|Romance\n",
       "3  4            Waiting to Exhale (1995)                  Comedy|Drama\n",
       "4  5  Father of the Bride Part II (1995)                        Comedy"
      ]
     },
     "execution_count": 1,
     "metadata": {},
     "output_type": "execute_result"
    }
   ],
   "source": [
    "import pandas as pd\n",
    "import numpy as np\n",
    "import matplotlib.pyplot as plt\n",
    "import seaborn as sns \n",
    "\n",
    "# Import data from file. Notice that fields are separated by \"::\", with no header\n",
    "movie = pd.read_csv(\"movies.dat\", sep=\"::\", encoding='latin-1', header=None, engine='python')\n",
    "movie.head()"
   ]
  },
  {
   "cell_type": "code",
   "execution_count": 2,
   "id": "0e6d7e46",
   "metadata": {
    "ExecuteTime": {
     "end_time": "2022-10-12T16:54:16.760613Z",
     "start_time": "2022-10-12T16:54:16.746662Z"
    }
   },
   "outputs": [
    {
     "data": {
      "text/html": [
       "<div>\n",
       "<style scoped>\n",
       "    .dataframe tbody tr th:only-of-type {\n",
       "        vertical-align: middle;\n",
       "    }\n",
       "\n",
       "    .dataframe tbody tr th {\n",
       "        vertical-align: top;\n",
       "    }\n",
       "\n",
       "    .dataframe thead th {\n",
       "        text-align: right;\n",
       "    }\n",
       "</style>\n",
       "<table border=\"1\" class=\"dataframe\">\n",
       "  <thead>\n",
       "    <tr style=\"text-align: right;\">\n",
       "      <th></th>\n",
       "      <th>0</th>\n",
       "      <th>1</th>\n",
       "      <th>2</th>\n",
       "      <th>Year</th>\n",
       "    </tr>\n",
       "  </thead>\n",
       "  <tbody>\n",
       "    <tr>\n",
       "      <th>0</th>\n",
       "      <td>1</td>\n",
       "      <td>Toy Story (1995)</td>\n",
       "      <td>Animation|Children's|Comedy</td>\n",
       "      <td>1995</td>\n",
       "    </tr>\n",
       "    <tr>\n",
       "      <th>1</th>\n",
       "      <td>2</td>\n",
       "      <td>Jumanji (1995)</td>\n",
       "      <td>Adventure|Children's|Fantasy</td>\n",
       "      <td>1995</td>\n",
       "    </tr>\n",
       "    <tr>\n",
       "      <th>2</th>\n",
       "      <td>3</td>\n",
       "      <td>Grumpier Old Men (1995)</td>\n",
       "      <td>Comedy|Romance</td>\n",
       "      <td>1995</td>\n",
       "    </tr>\n",
       "    <tr>\n",
       "      <th>3</th>\n",
       "      <td>4</td>\n",
       "      <td>Waiting to Exhale (1995)</td>\n",
       "      <td>Comedy|Drama</td>\n",
       "      <td>1995</td>\n",
       "    </tr>\n",
       "    <tr>\n",
       "      <th>4</th>\n",
       "      <td>5</td>\n",
       "      <td>Father of the Bride Part II (1995)</td>\n",
       "      <td>Comedy</td>\n",
       "      <td>1995</td>\n",
       "    </tr>\n",
       "  </tbody>\n",
       "</table>\n",
       "</div>"
      ],
      "text/plain": [
       "   0                                   1                             2  Year\n",
       "0  1                    Toy Story (1995)   Animation|Children's|Comedy  1995\n",
       "1  2                      Jumanji (1995)  Adventure|Children's|Fantasy  1995\n",
       "2  3             Grumpier Old Men (1995)                Comedy|Romance  1995\n",
       "3  4            Waiting to Exhale (1995)                  Comedy|Drama  1995\n",
       "4  5  Father of the Bride Part II (1995)                        Comedy  1995"
      ]
     },
     "execution_count": 2,
     "metadata": {},
     "output_type": "execute_result"
    }
   ],
   "source": [
    "# Let's get the Year column, from column #1\n",
    "movie['Year'] = movie[1].str[-5:-1].astype(int)\n",
    "movie.head()"
   ]
  },
  {
   "cell_type": "code",
   "execution_count": 3,
   "id": "ae0c7e7f",
   "metadata": {
    "ExecuteTime": {
     "end_time": "2022-10-12T16:54:16.775562Z",
     "start_time": "2022-10-12T16:54:16.761610Z"
    }
   },
   "outputs": [
    {
     "name": "stdout",
     "output_type": "stream",
     "text": [
      "<class 'pandas.core.frame.DataFrame'>\n",
      "RangeIndex: 3883 entries, 0 to 3882\n",
      "Data columns (total 5 columns):\n",
      " #   Column  Non-Null Count  Dtype \n",
      "---  ------  --------------  ----- \n",
      " 0   0       3883 non-null   int64 \n",
      " 1   1       3883 non-null   object\n",
      " 2   2       3883 non-null   object\n",
      " 3   Year    3883 non-null   int32 \n",
      " 4   Movie   3883 non-null   object\n",
      "dtypes: int32(1), int64(1), object(3)\n",
      "memory usage: 136.6+ KB\n"
     ]
    }
   ],
   "source": [
    "# Let's get the Movie, so we take the column #1, depreciating the last 7 characters\n",
    "movie['Movie'] = movie[1].str[0:-7]\n",
    "movie.info()"
   ]
  },
  {
   "cell_type": "code",
   "execution_count": 4,
   "id": "2235af88",
   "metadata": {
    "ExecuteTime": {
     "end_time": "2022-10-12T16:54:16.790557Z",
     "start_time": "2022-10-12T16:54:16.777556Z"
    },
    "scrolled": true
   },
   "outputs": [
    {
     "data": {
      "text/html": [
       "<div>\n",
       "<style scoped>\n",
       "    .dataframe tbody tr th:only-of-type {\n",
       "        vertical-align: middle;\n",
       "    }\n",
       "\n",
       "    .dataframe tbody tr th {\n",
       "        vertical-align: top;\n",
       "    }\n",
       "\n",
       "    .dataframe thead th {\n",
       "        text-align: right;\n",
       "    }\n",
       "</style>\n",
       "<table border=\"1\" class=\"dataframe\">\n",
       "  <thead>\n",
       "    <tr style=\"text-align: right;\">\n",
       "      <th></th>\n",
       "      <th>Year</th>\n",
       "      <th>Movie</th>\n",
       "      <th>Genre</th>\n",
       "    </tr>\n",
       "  </thead>\n",
       "  <tbody>\n",
       "    <tr>\n",
       "      <th>0</th>\n",
       "      <td>1995</td>\n",
       "      <td>Toy Story</td>\n",
       "      <td>Animation</td>\n",
       "    </tr>\n",
       "    <tr>\n",
       "      <th>1</th>\n",
       "      <td>1995</td>\n",
       "      <td>Jumanji</td>\n",
       "      <td>Adventure</td>\n",
       "    </tr>\n",
       "    <tr>\n",
       "      <th>2</th>\n",
       "      <td>1995</td>\n",
       "      <td>Grumpier Old Men</td>\n",
       "      <td>Comedy</td>\n",
       "    </tr>\n",
       "    <tr>\n",
       "      <th>3</th>\n",
       "      <td>1995</td>\n",
       "      <td>Waiting to Exhale</td>\n",
       "      <td>Comedy</td>\n",
       "    </tr>\n",
       "    <tr>\n",
       "      <th>4</th>\n",
       "      <td>1995</td>\n",
       "      <td>Father of the Bride Part II</td>\n",
       "      <td>Comedy</td>\n",
       "    </tr>\n",
       "  </tbody>\n",
       "</table>\n",
       "</div>"
      ],
      "text/plain": [
       "   Year                        Movie      Genre\n",
       "0  1995                    Toy Story  Animation\n",
       "1  1995                      Jumanji  Adventure\n",
       "2  1995             Grumpier Old Men     Comedy\n",
       "3  1995            Waiting to Exhale     Comedy\n",
       "4  1995  Father of the Bride Part II     Comedy"
      ]
     },
     "execution_count": 4,
     "metadata": {},
     "output_type": "execute_result"
    }
   ],
   "source": [
    "# Let's get the Genre column. In some rows we have more than one, but we are going to save only the first one\n",
    "movie['Genre'] = movie[2].apply(lambda x: x.split('|')[0]).astype(str)\n",
    "# Let's get rid of the previos columns\n",
    "movie.drop(movie.columns[[0, 1, 2]], axis=1, inplace=True)\n",
    "movie.head()"
   ]
  },
  {
   "cell_type": "code",
   "execution_count": 5,
   "id": "524b4d15",
   "metadata": {
    "ExecuteTime": {
     "end_time": "2022-10-12T16:54:16.806459Z",
     "start_time": "2022-10-12T16:54:16.791511Z"
    }
   },
   "outputs": [
    {
     "name": "stdout",
     "output_type": "stream",
     "text": [
      "<class 'pandas.core.frame.DataFrame'>\n",
      "RangeIndex: 3883 entries, 0 to 3882\n",
      "Data columns (total 3 columns):\n",
      " #   Column  Non-Null Count  Dtype \n",
      "---  ------  --------------  ----- \n",
      " 0   Year    3883 non-null   int32 \n",
      " 1   Movie   3883 non-null   object\n",
      " 2   Genre   3883 non-null   object\n",
      "dtypes: int32(1), object(2)\n",
      "memory usage: 76.0+ KB\n"
     ]
    }
   ],
   "source": [
    "movie.info()"
   ]
  },
  {
   "cell_type": "markdown",
   "id": "fef1c337",
   "metadata": {},
   "source": [
    "## Exercise #3\n",
    "\n",
    "Showing your creativity, explain what do you think is relevant to show from the \"movies.dat\" dataset of the previous exercise.\n",
    "Make one or two graphical representations and justify your choice.\n"
   ]
  },
  {
   "cell_type": "code",
   "execution_count": 6,
   "id": "60b9afe5",
   "metadata": {
    "ExecuteTime": {
     "end_time": "2022-10-12T16:54:16.822406Z",
     "start_time": "2022-10-12T16:54:16.807456Z"
    }
   },
   "outputs": [
    {
     "data": {
      "text/plain": [
       "array(['Animation', 'Adventure', 'Comedy', 'Action', 'Drama', 'Thriller',\n",
       "       'Crime', 'Romance', \"Children's\", 'Documentary', 'Sci-Fi',\n",
       "       'Horror', 'Western', 'Mystery', 'Film-Noir', 'War', 'Fantasy',\n",
       "       'Musical'], dtype=object)"
      ]
     },
     "execution_count": 6,
     "metadata": {},
     "output_type": "execute_result"
    }
   ],
   "source": [
    "# Let's see how many unique genres are in the data set\n",
    "movie['Genre'].unique()"
   ]
  },
  {
   "cell_type": "code",
   "execution_count": 7,
   "id": "6524e304",
   "metadata": {
    "ExecuteTime": {
     "end_time": "2022-10-12T16:54:16.838354Z",
     "start_time": "2022-10-12T16:54:16.823405Z"
    }
   },
   "outputs": [
    {
     "name": "stdout",
     "output_type": "stream",
     "text": [
      "Minimum Year showe on list: 1919\n",
      "Maximum Year showe on list: 2000\n"
     ]
    }
   ],
   "source": [
    "# In order to know better this dataset, let's see the min year and max year represented\n",
    "print('Minimum Year showe on list:',movie['Year'].min())\n",
    "print('Maximum Year showe on list:',movie['Year'].max())"
   ]
  },
  {
   "cell_type": "markdown",
   "id": "a0e68bf9",
   "metadata": {},
   "source": [
    "### Showing movies per year\n",
    "\n",
    "Taking into account the data given, it's is interesting to show how many movies have been made depending on the year. "
   ]
  },
  {
   "cell_type": "code",
   "execution_count": 8,
   "id": "835fcc67",
   "metadata": {
    "ExecuteTime": {
     "end_time": "2022-10-12T16:54:17.212737Z",
     "start_time": "2022-10-12T16:54:16.839352Z"
    }
   },
   "outputs": [
    {
     "data": {
      "image/png": "[encoded data removed]",
      "text/plain": [
       "<Figure size 1152x576 with 1 Axes>"
      ]
     },
     "metadata": {
      "needs_background": "light"
     },
     "output_type": "display_data"
    }
   ],
   "source": [
    "# Let's configure a sufficiently large plotting space for this graph\n",
    "fig = plt.figure(figsize=(16,8))\n",
    "cplot = sns.countplot(x=movie[\"Year\"], color=\"Green\") # Countplot based on Year column\n",
    "plt.title('Movies per Year', size = 25)\n",
    "plt.ylabel('Total Movies', size=20)\n",
    "plt.xlabel('Year', size=20)\n",
    "# Due that we have too many years to be displayed, let's us show only yaers in increments of 5\n",
    "for index, label in enumerate(cplot.get_xticklabels()):\n",
    "   if index % 5 == 0:\n",
    "      label.set_visible(True)\n",
    "   else:\n",
    "      label.set_visible(False)\n",
    "plt.margins(0.02) # Add margins to show left and right image "
   ]
  },
  {
   "cell_type": "markdown",
   "id": "a5f4bbc7",
   "metadata": {},
   "source": [
    "### Showing genre change through years\n",
    "\n",
    "Through all this years there are enough data to check the evolution of the most used genres and the end of the chart."
   ]
  },
  {
   "cell_type": "code",
   "execution_count": 9,
   "id": "c90ef5f3",
   "metadata": {
    "ExecuteTime": {
     "end_time": "2022-10-12T16:54:17.228685Z",
     "start_time": "2022-10-12T16:54:17.213734Z"
    }
   },
   "outputs": [
    {
     "data": {
      "text/html": [
       "<div>\n",
       "<style scoped>\n",
       "    .dataframe tbody tr th:only-of-type {\n",
       "        vertical-align: middle;\n",
       "    }\n",
       "\n",
       "    .dataframe tbody tr th {\n",
       "        vertical-align: top;\n",
       "    }\n",
       "\n",
       "    .dataframe thead th {\n",
       "        text-align: right;\n",
       "    }\n",
       "</style>\n",
       "<table border=\"1\" class=\"dataframe\">\n",
       "  <thead>\n",
       "    <tr style=\"text-align: right;\">\n",
       "      <th></th>\n",
       "      <th>Year</th>\n",
       "      <th>Genre</th>\n",
       "      <th>Movie</th>\n",
       "    </tr>\n",
       "  </thead>\n",
       "  <tbody>\n",
       "    <tr>\n",
       "      <th>70</th>\n",
       "      <td>1939</td>\n",
       "      <td>Horror</td>\n",
       "      <td>1</td>\n",
       "    </tr>\n",
       "    <tr>\n",
       "      <th>35</th>\n",
       "      <td>1932</td>\n",
       "      <td>Drama</td>\n",
       "      <td>2</td>\n",
       "    </tr>\n",
       "    <tr>\n",
       "      <th>529</th>\n",
       "      <td>1994</td>\n",
       "      <td>Action</td>\n",
       "      <td>32</td>\n",
       "    </tr>\n",
       "    <tr>\n",
       "      <th>574</th>\n",
       "      <td>1997</td>\n",
       "      <td>Children's</td>\n",
       "      <td>11</td>\n",
       "    </tr>\n",
       "    <tr>\n",
       "      <th>489</th>\n",
       "      <td>1990</td>\n",
       "      <td>Horror</td>\n",
       "      <td>13</td>\n",
       "    </tr>\n",
       "    <tr>\n",
       "      <th>162</th>\n",
       "      <td>1953</td>\n",
       "      <td>Action</td>\n",
       "      <td>2</td>\n",
       "    </tr>\n",
       "    <tr>\n",
       "      <th>404</th>\n",
       "      <td>1981</td>\n",
       "      <td>Documentary</td>\n",
       "      <td>1</td>\n",
       "    </tr>\n",
       "    <tr>\n",
       "      <th>276</th>\n",
       "      <td>1966</td>\n",
       "      <td>Western</td>\n",
       "      <td>1</td>\n",
       "    </tr>\n",
       "    <tr>\n",
       "      <th>260</th>\n",
       "      <td>1965</td>\n",
       "      <td>Action</td>\n",
       "      <td>2</td>\n",
       "    </tr>\n",
       "    <tr>\n",
       "      <th>193</th>\n",
       "      <td>1956</td>\n",
       "      <td>Sci-Fi</td>\n",
       "      <td>5</td>\n",
       "    </tr>\n",
       "  </tbody>\n",
       "</table>\n",
       "</div>"
      ],
      "text/plain": [
       "     Year        Genre  Movie\n",
       "70   1939       Horror      1\n",
       "35   1932        Drama      2\n",
       "529  1994       Action     32\n",
       "574  1997   Children's     11\n",
       "489  1990       Horror     13\n",
       "162  1953       Action      2\n",
       "404  1981  Documentary      1\n",
       "276  1966      Western      1\n",
       "260  1965       Action      2\n",
       "193  1956       Sci-Fi      5"
      ]
     },
     "execution_count": 9,
     "metadata": {},
     "output_type": "execute_result"
    }
   ],
   "source": [
    "# Let's group the columns we want to work with, and count the number of movies for each Year/Genre\n",
    "movie_g = movie.groupby([\"Year\", \"Genre\"], as_index = False)[[\"Movie\"]].count()\n",
    "movie_g.sample(10)"
   ]
  },
  {
   "cell_type": "code",
   "execution_count": 10,
   "id": "107b45b7",
   "metadata": {
    "ExecuteTime": {
     "end_time": "2022-10-12T16:54:17.259587Z",
     "start_time": "2022-10-12T16:54:17.231673Z"
    }
   },
   "outputs": [
    {
     "data": {
      "text/html": [
       "<div>\n",
       "<style scoped>\n",
       "    .dataframe tbody tr th:only-of-type {\n",
       "        vertical-align: middle;\n",
       "    }\n",
       "\n",
       "    .dataframe tbody tr th {\n",
       "        vertical-align: top;\n",
       "    }\n",
       "\n",
       "    .dataframe thead tr th {\n",
       "        text-align: left;\n",
       "    }\n",
       "\n",
       "    .dataframe thead tr:last-of-type th {\n",
       "        text-align: right;\n",
       "    }\n",
       "</style>\n",
       "<table border=\"1\" class=\"dataframe\">\n",
       "  <thead>\n",
       "    <tr>\n",
       "      <th></th>\n",
       "      <th colspan=\"21\" halign=\"left\">Movie</th>\n",
       "    </tr>\n",
       "    <tr>\n",
       "      <th>Year</th>\n",
       "      <th>1919</th>\n",
       "      <th>1920</th>\n",
       "      <th>1921</th>\n",
       "      <th>1922</th>\n",
       "      <th>1923</th>\n",
       "      <th>1925</th>\n",
       "      <th>1926</th>\n",
       "      <th>1927</th>\n",
       "      <th>1928</th>\n",
       "      <th>1929</th>\n",
       "      <th>...</th>\n",
       "      <th>1991</th>\n",
       "      <th>1992</th>\n",
       "      <th>1993</th>\n",
       "      <th>1994</th>\n",
       "      <th>1995</th>\n",
       "      <th>1996</th>\n",
       "      <th>1997</th>\n",
       "      <th>1998</th>\n",
       "      <th>1999</th>\n",
       "      <th>2000</th>\n",
       "    </tr>\n",
       "    <tr>\n",
       "      <th>Genre</th>\n",
       "      <th></th>\n",
       "      <th></th>\n",
       "      <th></th>\n",
       "      <th></th>\n",
       "      <th></th>\n",
       "      <th></th>\n",
       "      <th></th>\n",
       "      <th></th>\n",
       "      <th></th>\n",
       "      <th></th>\n",
       "      <th></th>\n",
       "      <th></th>\n",
       "      <th></th>\n",
       "      <th></th>\n",
       "      <th></th>\n",
       "      <th></th>\n",
       "      <th></th>\n",
       "      <th></th>\n",
       "      <th></th>\n",
       "      <th></th>\n",
       "      <th></th>\n",
       "    </tr>\n",
       "  </thead>\n",
       "  <tbody>\n",
       "    <tr>\n",
       "      <th>Action</th>\n",
       "      <td>1.0</td>\n",
       "      <td>NaN</td>\n",
       "      <td>1.0</td>\n",
       "      <td>NaN</td>\n",
       "      <td>NaN</td>\n",
       "      <td>NaN</td>\n",
       "      <td>NaN</td>\n",
       "      <td>NaN</td>\n",
       "      <td>NaN</td>\n",
       "      <td>NaN</td>\n",
       "      <td>...</td>\n",
       "      <td>6.0</td>\n",
       "      <td>21.0</td>\n",
       "      <td>25.0</td>\n",
       "      <td>32.0</td>\n",
       "      <td>45.0</td>\n",
       "      <td>37.0</td>\n",
       "      <td>43.0</td>\n",
       "      <td>44.0</td>\n",
       "      <td>27.0</td>\n",
       "      <td>19.0</td>\n",
       "    </tr>\n",
       "    <tr>\n",
       "      <th>Adventure</th>\n",
       "      <td>1.0</td>\n",
       "      <td>NaN</td>\n",
       "      <td>NaN</td>\n",
       "      <td>NaN</td>\n",
       "      <td>NaN</td>\n",
       "      <td>NaN</td>\n",
       "      <td>1.0</td>\n",
       "      <td>NaN</td>\n",
       "      <td>NaN</td>\n",
       "      <td>NaN</td>\n",
       "      <td>...</td>\n",
       "      <td>2.0</td>\n",
       "      <td>2.0</td>\n",
       "      <td>4.0</td>\n",
       "      <td>8.0</td>\n",
       "      <td>13.0</td>\n",
       "      <td>10.0</td>\n",
       "      <td>10.0</td>\n",
       "      <td>8.0</td>\n",
       "      <td>1.0</td>\n",
       "      <td>4.0</td>\n",
       "    </tr>\n",
       "    <tr>\n",
       "      <th>Animation</th>\n",
       "      <td>NaN</td>\n",
       "      <td>NaN</td>\n",
       "      <td>NaN</td>\n",
       "      <td>NaN</td>\n",
       "      <td>NaN</td>\n",
       "      <td>NaN</td>\n",
       "      <td>NaN</td>\n",
       "      <td>NaN</td>\n",
       "      <td>NaN</td>\n",
       "      <td>NaN</td>\n",
       "      <td>...</td>\n",
       "      <td>2.0</td>\n",
       "      <td>3.0</td>\n",
       "      <td>4.0</td>\n",
       "      <td>4.0</td>\n",
       "      <td>8.0</td>\n",
       "      <td>6.0</td>\n",
       "      <td>4.0</td>\n",
       "      <td>7.0</td>\n",
       "      <td>7.0</td>\n",
       "      <td>6.0</td>\n",
       "    </tr>\n",
       "    <tr>\n",
       "      <th>Children's</th>\n",
       "      <td>NaN</td>\n",
       "      <td>NaN</td>\n",
       "      <td>NaN</td>\n",
       "      <td>NaN</td>\n",
       "      <td>NaN</td>\n",
       "      <td>NaN</td>\n",
       "      <td>NaN</td>\n",
       "      <td>NaN</td>\n",
       "      <td>NaN</td>\n",
       "      <td>NaN</td>\n",
       "      <td>...</td>\n",
       "      <td>NaN</td>\n",
       "      <td>5.0</td>\n",
       "      <td>3.0</td>\n",
       "      <td>9.0</td>\n",
       "      <td>5.0</td>\n",
       "      <td>8.0</td>\n",
       "      <td>11.0</td>\n",
       "      <td>7.0</td>\n",
       "      <td>4.0</td>\n",
       "      <td>2.0</td>\n",
       "    </tr>\n",
       "    <tr>\n",
       "      <th>Comedy</th>\n",
       "      <td>1.0</td>\n",
       "      <td>2.0</td>\n",
       "      <td>NaN</td>\n",
       "      <td>NaN</td>\n",
       "      <td>2.0</td>\n",
       "      <td>3.0</td>\n",
       "      <td>1.0</td>\n",
       "      <td>2.0</td>\n",
       "      <td>3.0</td>\n",
       "      <td>NaN</td>\n",
       "      <td>...</td>\n",
       "      <td>22.0</td>\n",
       "      <td>26.0</td>\n",
       "      <td>39.0</td>\n",
       "      <td>80.0</td>\n",
       "      <td>79.0</td>\n",
       "      <td>101.0</td>\n",
       "      <td>83.0</td>\n",
       "      <td>94.0</td>\n",
       "      <td>93.0</td>\n",
       "      <td>65.0</td>\n",
       "    </tr>\n",
       "  </tbody>\n",
       "</table>\n",
       "<p>5 rows × 81 columns</p>\n",
       "</div>"
      ],
      "text/plain": [
       "           Movie                                               ...        \\\n",
       "Year        1919 1920 1921 1922 1923 1925 1926 1927 1928 1929  ...  1991   \n",
       "Genre                                                          ...         \n",
       "Action       1.0  NaN  1.0  NaN  NaN  NaN  NaN  NaN  NaN  NaN  ...   6.0   \n",
       "Adventure    1.0  NaN  NaN  NaN  NaN  NaN  1.0  NaN  NaN  NaN  ...   2.0   \n",
       "Animation    NaN  NaN  NaN  NaN  NaN  NaN  NaN  NaN  NaN  NaN  ...   2.0   \n",
       "Children's   NaN  NaN  NaN  NaN  NaN  NaN  NaN  NaN  NaN  NaN  ...   NaN   \n",
       "Comedy       1.0  2.0  NaN  NaN  2.0  3.0  1.0  2.0  3.0  NaN  ...  22.0   \n",
       "\n",
       "                                                                   \n",
       "Year        1992  1993  1994  1995   1996  1997  1998  1999  2000  \n",
       "Genre                                                              \n",
       "Action      21.0  25.0  32.0  45.0   37.0  43.0  44.0  27.0  19.0  \n",
       "Adventure    2.0   4.0   8.0  13.0   10.0  10.0   8.0   1.0   4.0  \n",
       "Animation    3.0   4.0   4.0   8.0    6.0   4.0   7.0   7.0   6.0  \n",
       "Children's   5.0   3.0   9.0   5.0    8.0  11.0   7.0   4.0   2.0  \n",
       "Comedy      26.0  39.0  80.0  79.0  101.0  83.0  94.0  93.0  65.0  \n",
       "\n",
       "[5 rows x 81 columns]"
      ]
     },
     "execution_count": 10,
     "metadata": {},
     "output_type": "execute_result"
    }
   ],
   "source": [
    "# Let's pivot the table in order to prepare the data for the heatmap graphic\n",
    "# All combination of Genre/Year with no data, will contain NaN values. I'm gonna keep them in order not to display them\n",
    "# on the heatmap. In this way, it will be more clean the graph\n",
    "movie_ph = movie_g.pivot(index='Genre', columns='Year')\n",
    "movie_ph.head()"
   ]
  },
  {
   "cell_type": "code",
   "execution_count": 11,
   "id": "29e73a19",
   "metadata": {
    "ExecuteTime": {
     "end_time": "2022-10-12T16:54:17.557099Z",
     "start_time": "2022-10-12T16:54:17.260579Z"
    }
   },
   "outputs": [
    {
     "data": {
      "image/png": "[encoded data removed]",
      "text/plain": [
       "<Figure size 1152x576 with 2 Axes>"
      ]
     },
     "metadata": {
      "needs_background": "light"
     },
     "output_type": "display_data"
    }
   ],
   "source": [
    "# Now let's show our heatmap\n",
    "f, ax = plt.subplots(figsize=(16, 8))\n",
    "# On this plot we do not ant any annotation only the colors.\n",
    "cplot = sns.heatmap(movie_ph, annot=False, cmap=\"YlGnBu\")\n",
    "# let's us show this plot with the same increments of the preevious plot, 5 years\n",
    "for index, label in enumerate(cplot.get_xticklabels()):\n",
    "   if index % 5 == 0:\n",
    "      label.set_visible(True)\n",
    "   else:\n",
    "      label.set_visible(False)\n",
    "plt.title('Distribution of Movies per Year depening on Genre', fontsize=25)\n",
    "plt.xlabel('Movies made per Year', fontsize=20)\n",
    "plt.ylabel('Type of Genre', fontsize=20)\n",
    "plt.show()"
   ]
  },
  {
   "cell_type": "markdown",
   "id": "06a481ed",
   "metadata": {},
   "source": [
    "It's interesting to see how the evolution of genres shows us that Comedy and Drama movies as the most produced, and in 3rd position Action movies. The rest of the movies remain at low ratios.\n",
    "\n",
    "On the other hand, I have to comment that on the Exercise #2 we have kept only one genre by movie. Maybe the final result could have been somehow different."
   ]
  }
 ],
 "metadata": {
  "kernelspec": {
   "display_name": "Python 3 (ipykernel)",
   "language": "python",
   "name": "python3"
  },
  "language_info": {
   "codemirror_mode": {
    "name": "ipython",
    "version": 3
   },
   "file_extension": ".py",
   "mimetype": "text/x-python",
   "name": "python",
   "nbconvert_exporter": "python",
   "pygments_lexer": "ipython3",
   "version": "3.9.12"
  },
  "latex_envs": {
   "LaTeX_envs_menu_present": true,
   "autoclose": false,
   "autocomplete": true,
   "bibliofile": "biblio.bib",
   "cite_by": "apalike",
   "current_citInitial": 1,
   "eqLabelWithNumbers": true,
   "eqNumInitial": 1,
   "hotkeys": {
    "equation": "Ctrl-E",
    "itemize": "Ctrl-I"
   },
   "labels_anchors": false,
   "latex_user_defs": false,
   "report_style_numbering": false,
   "user_envs_cfg": false
  },
  "nbTranslate": {
   "displayLangs": [
    "*"
   ],
   "hotkey": "alt-t",
   "langInMainMenu": true,
   "sourceLang": "en",
   "targetLang": "fr",
   "useGoogleTranslate": true
  },
  "toc": {
   "base_numbering": 1,
   "nav_menu": {},
   "number_sections": true,
   "sideBar": true,
   "skip_h1_title": true,
   "title_cell": "Table of Contents",
   "title_sidebar": "Contents",
   "toc_cell": false,
   "toc_position": {
    "height": "calc(100% - 180px)",
    "left": "10px",
    "top": "150px",
    "width": "383.993px"
   },
   "toc_section_display": true,
   "toc_window_display": false
  },
  "varInspector": {
   "cols": {
    "lenName": 16,
    "lenType": 16,
    "lenVar": 40
   },
   "kernels_config": {
    "python": {
     "delete_cmd_postfix": "",
     "delete_cmd_prefix": "del ",
     "library": "var_list.py",
     "varRefreshCmd": "print(var_dic_list())"
    },
    "r": {
     "delete_cmd_postfix": ") ",
     "delete_cmd_prefix": "rm(",
     "library": "var_list.r",
     "varRefreshCmd": "cat(var_dic_list()) "
    }
   },
   "types_to_exclude": [
    "module",
    "function",
    "builtin_function_or_method",
    "instance",
    "_Feature"
   ],
   "window_display": false
  }
 },
 "nbformat": 4,
 "nbformat_minor": 5
}
